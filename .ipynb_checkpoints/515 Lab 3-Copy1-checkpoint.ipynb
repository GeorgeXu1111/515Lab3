{
 "cells": [
  {
   "cell_type": "markdown",
   "id": "368a7d50",
   "metadata": {},
   "source": [
    "# Lab 3\n",
    "## 3.3.2024"
   ]
  },
  {
   "cell_type": "markdown",
   "id": "bff505cf",
   "metadata": {},
   "source": [
    "## Arch Model"
   ]
  },
  {
   "cell_type": "markdown",
   "id": "a29eaf54",
   "metadata": {},
   "source": [
    "a statistical model for time series data that describes the variance of the current error term or innovation as a function of the actual sizes of the previous time periods' error terms"
   ]
  },
  {
   "cell_type": "markdown",
   "id": "cbe391be",
   "metadata": {},
   "source": [
    "### Preparation"
   ]
  },
  {
   "cell_type": "code",
   "execution_count": 18,
   "id": "6ccc6c99",
   "metadata": {},
   "outputs": [],
   "source": [
    "import numpy as np\n",
    "import pandas as pd\n",
    "from arch import arch_model\n",
    "from arch.univariate import GARCH\n",
    "from statsmodels.tsa.stattools import adfuller\n",
    "\n",
    "XOM = pd.read_csv(\"XOM.csv\", index_col=0)"
   ]
  },
  {
   "cell_type": "markdown",
   "id": "bb677c98",
   "metadata": {},
   "source": [
    "## Test for stationarity"
   ]
  },
  {
   "cell_type": "code",
   "execution_count": 11,
   "id": "9f6e8bfa",
   "metadata": {},
   "outputs": [
    {
     "name": "stdout",
     "output_type": "stream",
     "text": [
      "p-value: 0.997175\n"
     ]
    }
   ],
   "source": [
    "print('p-value: %f' % adfuller(XOM[\"Adj Close\"])[1])"
   ]
  },
  {
   "cell_type": "markdown",
   "id": "a34db9f5",
   "metadata": {},
   "source": [
    "## Detrending and test again"
   ]
  },
  {
   "cell_type": "code",
   "execution_count": 12,
   "id": "6301626c",
   "metadata": {},
   "outputs": [],
   "source": [
    "returns = 100* XOM['Adj Close'].pct_change().dropna()\n",
    "print('p-value: %f' % adfuller(returns)[1])"
   ]
  },
  {
   "cell_type": "markdown",
   "id": "9e2034e5",
   "metadata": {},
   "source": [
    "## Arch Model"
   ]
  },
  {
   "cell_type": "code",
   "execution_count": 30,
   "id": "e9bcfc67",
   "metadata": {},
   "outputs": [
    {
     "name": "stdout",
     "output_type": "stream",
     "text": [
      "Iteration:      1,   Func. Count:     14,   Neg. LLF: 90286.84644484929\n",
      "Iteration:      2,   Func. Count:     31,   Neg. LLF: 42739.611247713954\n",
      "Iteration:      3,   Func. Count:     47,   Neg. LLF: 65057.09104602496\n",
      "Iteration:      4,   Func. Count:     61,   Neg. LLF: 30847.10405310998\n",
      "Iteration:      5,   Func. Count:     75,   Neg. LLF: 29177.229802584843\n",
      "Iteration:      6,   Func. Count:     90,   Neg. LLF: 27874.57805788643\n",
      "Iteration:      7,   Func. Count:    104,   Neg. LLF: 28272.13206482673\n",
      "Iteration:      8,   Func. Count:    119,   Neg. LLF: 28923.220745355764\n",
      "Iteration:      9,   Func. Count:    134,   Neg. LLF: 27249.30960369892\n",
      "Iteration:     10,   Func. Count:    149,   Neg. LLF: 27100.97637967887\n",
      "Iteration:     11,   Func. Count:    164,   Neg. LLF: 27764.713756214835\n",
      "Iteration:     12,   Func. Count:    179,   Neg. LLF: 28257.88844275646\n",
      "Iteration:     13,   Func. Count:    194,   Neg. LLF: 26393.2819365933\n",
      "Iteration:     14,   Func. Count:    209,   Neg. LLF: 27361.663265476942\n",
      "Iteration:     15,   Func. Count:    224,   Neg. LLF: 26395.12071671282\n",
      "Iteration:     16,   Func. Count:    239,   Neg. LLF: 26076.884374886547\n",
      "Iteration:     17,   Func. Count:    254,   Neg. LLF: 25962.978746756784\n",
      "Iteration:     18,   Func. Count:    268,   Neg. LLF: 25987.934082261643\n",
      "Iteration:     19,   Func. Count:    283,   Neg. LLF: 25948.04258964793\n",
      "Iteration:     20,   Func. Count:    297,   Neg. LLF: 25947.651760898625\n",
      "Iteration:     21,   Func. Count:    310,   Neg. LLF: 25947.649012887778\n",
      "Iteration:     22,   Func. Count:    323,   Neg. LLF: 25947.648979914025\n",
      "Iteration:     23,   Func. Count:    336,   Neg. LLF: 25947.648978967492\n",
      "Optimization terminated successfully    (Exit mode 0)\n",
      "            Current function value: 25947.648978967492\n",
      "            Iterations: 23\n",
      "            Function evaluations: 336\n",
      "            Gradient evaluations: 23\n",
      "                      Constant Mean - ARCH Model Results                      \n",
      "==============================================================================\n",
      "Dep. Variable:              Adj Close   R-squared:                       0.000\n",
      "Mean Model:             Constant Mean   Adj. R-squared:                  0.000\n",
      "Vol Model:                       ARCH   Log-Likelihood:               -25947.6\n",
      "Distribution:                  Normal   AIC:                           51919.3\n",
      "Method:            Maximum Likelihood   BIC:                           52011.2\n",
      "                                        No. Observations:                15634\n",
      "Date:                Mon, Mar 04 2024   Df Residuals:                    15633\n",
      "Time:                        08:54:31   Df Model:                            1\n",
      "                                 Mean Model                                 \n",
      "============================================================================\n",
      "                 coef    std err          t      P>|t|      95.0% Conf. Int.\n",
      "----------------------------------------------------------------------------\n",
      "mu             0.0637  9.310e-03      6.839  7.980e-12 [4.543e-02,8.192e-02]\n",
      "                              Volatility Model                              \n",
      "============================================================================\n",
      "                 coef    std err          t      P>|t|      95.0% Conf. Int.\n",
      "----------------------------------------------------------------------------\n",
      "omega          0.5747  3.244e-02     17.715  3.223e-70     [  0.511,  0.638]\n",
      "alpha[1]       0.1315  1.867e-02      7.040  1.921e-12   [9.486e-02,  0.168]\n",
      "alpha[2]       0.1142  1.450e-02      7.873  3.453e-15   [8.576e-02,  0.143]\n",
      "alpha[3]       0.0896  1.267e-02      7.069  1.558e-12   [6.472e-02,  0.114]\n",
      "alpha[4]       0.0569  1.097e-02      5.188  2.130e-07 [3.541e-02,7.841e-02]\n",
      "alpha[5]       0.0659  1.233e-02      5.349  8.861e-08 [4.177e-02,9.008e-02]\n",
      "alpha[6]       0.0539  1.148e-02      4.699  2.618e-06 [3.144e-02,7.643e-02]\n",
      "alpha[7]       0.0383  1.091e-02      3.510  4.479e-04 [1.691e-02,5.968e-02]\n",
      "alpha[8]       0.0593  1.319e-02      4.497  6.899e-06 [3.345e-02,8.514e-02]\n",
      "alpha[9]       0.0472  1.247e-02      3.782  1.557e-04 [2.273e-02,7.162e-02]\n",
      "alpha[10]      0.0597  1.109e-02      5.386  7.203e-08 [3.800e-02,8.148e-02]\n",
      "============================================================================\n",
      "\n",
      "Covariance estimator: robust\n"
     ]
    }
   ],
   "source": [
    "am = arch_model(returns, vol=\"ARCH\", p=10)\n",
    "res = am.fit()\n",
    "print(res.summary())"
   ]
  },
  {
   "cell_type": "markdown",
   "id": "f86cb783",
   "metadata": {},
   "source": [
    "## GARCH Model"
   ]
  },
  {
   "cell_type": "code",
   "execution_count": 26,
   "id": "9d6017df",
   "metadata": {},
   "outputs": [
    {
     "name": "stdout",
     "output_type": "stream",
     "text": [
      "Iteration:      1,   Func. Count:      6,   Neg. LLF: 106767.76997568052\n",
      "Iteration:      2,   Func. Count:     15,   Neg. LLF: 113035.08336004816\n",
      "Iteration:      3,   Func. Count:     25,   Neg. LLF: 2238967715.947327\n",
      "Iteration:      4,   Func. Count:     31,   Neg. LLF: 25864.688569735426\n",
      "Iteration:      5,   Func. Count:     37,   Neg. LLF: 44567.91768900358\n",
      "Iteration:      6,   Func. Count:     43,   Neg. LLF: 25935.633930567114\n",
      "Iteration:      7,   Func. Count:     50,   Neg. LLF: 25832.299457129913\n",
      "Iteration:      8,   Func. Count:     55,   Neg. LLF: 25832.265061854734\n",
      "Iteration:      9,   Func. Count:     60,   Neg. LLF: 25832.264754996366\n",
      "Iteration:     10,   Func. Count:     65,   Neg. LLF: 25832.26472866724\n",
      "Iteration:     11,   Func. Count:     69,   Neg. LLF: 25832.264728662893\n",
      "Optimization terminated successfully    (Exit mode 0)\n",
      "            Current function value: 25832.26472866724\n",
      "            Iterations: 11\n",
      "            Function evaluations: 69\n",
      "            Gradient evaluations: 11\n",
      "                     Constant Mean - GARCH Model Results                      \n",
      "==============================================================================\n",
      "Dep. Variable:              Adj Close   R-squared:                       0.000\n",
      "Mean Model:             Constant Mean   Adj. R-squared:                  0.000\n",
      "Vol Model:                      GARCH   Log-Likelihood:               -25832.3\n",
      "Distribution:                  Normal   AIC:                           51672.5\n",
      "Method:            Maximum Likelihood   BIC:                           51703.2\n",
      "                                        No. Observations:                15634\n",
      "Date:                Mon, Mar 04 2024   Df Residuals:                    15633\n",
      "Time:                        08:52:15   Df Model:                            1\n",
      "                                 Mean Model                                 \n",
      "============================================================================\n",
      "                 coef    std err          t      P>|t|      95.0% Conf. Int.\n",
      "----------------------------------------------------------------------------\n",
      "mu             0.0603  9.269e-03      6.502  7.910e-11 [4.210e-02,7.843e-02]\n",
      "                              Volatility Model                              \n",
      "============================================================================\n",
      "                 coef    std err          t      P>|t|      95.0% Conf. Int.\n",
      "----------------------------------------------------------------------------\n",
      "omega          0.0343  6.515e-03      5.257  1.465e-07 [2.148e-02,4.702e-02]\n",
      "alpha[1]       0.0813  1.033e-02      7.874  3.448e-15   [6.107e-02,  0.102]\n",
      "beta[1]        0.9020  1.190e-02     75.767      0.000     [  0.879,  0.925]\n",
      "============================================================================\n",
      "\n",
      "Covariance estimator: robust\n"
     ]
    }
   ],
   "source": [
    "am = arch_model(returns, vol=\"GARCH\")\n",
    "res = am.fit()\n",
    "print(res.summary())"
   ]
  },
  {
   "cell_type": "code",
   "execution_count": null,
   "id": "f3a29a53",
   "metadata": {},
   "outputs": [],
   "source": []
  }
 ],
 "metadata": {
  "kernelspec": {
   "display_name": "Python 3 (ipykernel)",
   "language": "python",
   "name": "python3"
  },
  "language_info": {
   "codemirror_mode": {
    "name": "ipython",
    "version": 3
   },
   "file_extension": ".py",
   "mimetype": "text/x-python",
   "name": "python",
   "nbconvert_exporter": "python",
   "pygments_lexer": "ipython3",
   "version": "3.11.4"
  }
 },
 "nbformat": 4,
 "nbformat_minor": 5
}
