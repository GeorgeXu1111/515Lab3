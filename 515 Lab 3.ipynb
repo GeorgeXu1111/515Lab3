{
 "cells": [
  {
   "cell_type": "markdown",
   "id": "368a7d50",
   "metadata": {},
   "source": [
    "# Lab 3\n",
    "## 3.3.2024"
   ]
  },
  {
   "cell_type": "markdown",
   "id": "f0577a9f",
   "metadata": {},
   "source": [
    "## Arch Model"
   ]
  },
  {
   "cell_type": "markdown",
   "id": "2b1eeb02",
   "metadata": {},
   "source": [
    "a statistical model for time series data that describes the variance of the current error term or innovation as a function of the actual sizes of the previous time periods' error terms"
   ]
  },
  {
   "cell_type": "markdown",
   "id": "c024d030",
   "metadata": {},
   "source": [
    "### Preparation"
   ]
  },
  {
   "cell_type": "code",
   "execution_count": null,
   "id": "06ef5c1e",
   "metadata": {},
   "outputs": [],
   "source": []
  },
  {
   "cell_type": "markdown",
   "id": "c2981889",
   "metadata": {},
   "source": [
    "## Test for stationarity"
   ]
  },
  {
   "cell_type": "code",
   "execution_count": null,
   "id": "323c25a1",
   "metadata": {},
   "outputs": [],
   "source": []
  },
  {
   "cell_type": "markdown",
   "id": "4aefa808",
   "metadata": {},
   "source": [
    "## Detrending and test again"
   ]
  },
  {
   "cell_type": "code",
   "execution_count": null,
   "id": "a225a1cf",
   "metadata": {},
   "outputs": [],
   "source": []
  },
  {
   "cell_type": "markdown",
   "id": "b9e90146",
   "metadata": {},
   "source": [
    "## Arch Model"
   ]
  },
  {
   "cell_type": "code",
   "execution_count": null,
   "id": "69079513",
   "metadata": {},
   "outputs": [],
   "source": []
  },
  {
   "cell_type": "markdown",
   "id": "5787fbce",
   "metadata": {},
   "source": [
    "## GARCH Model"
   ]
  },
  {
   "cell_type": "code",
   "execution_count": null,
   "id": "82618039",
   "metadata": {},
   "outputs": [],
   "source": []
  }
 ],
 "metadata": {
  "kernelspec": {
   "display_name": "Python 3 (ipykernel)",
   "language": "python",
   "name": "python3"
  },
  "language_info": {
   "codemirror_mode": {
    "name": "ipython",
    "version": 3
   },
   "file_extension": ".py",
   "mimetype": "text/x-python",
   "name": "python",
   "nbconvert_exporter": "python",
   "pygments_lexer": "ipython3",
   "version": "3.11.4"
  }
 },
 "nbformat": 4,
 "nbformat_minor": 5
}
