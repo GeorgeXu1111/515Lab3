{
 "cells": [
  {
   "cell_type": "markdown",
   "id": "368a7d50",
   "metadata": {},
   "source": [
    "# Lab 3\n",
    "## 3.3.2024"
   ]
  },
  {
   "cell_type": "markdown",
   "id": "f0577a9f",
   "metadata": {},
   "source": [
    "## Arch Model"
   ]
  },
  {
   "cell_type": "markdown",
   "id": "2b1eeb02",
   "metadata": {},
   "source": [
    "a statistical model for time series data that describes the variance of the current error term or innovation as a function of the actual sizes of the previous time periods' error terms"
   ]
  },
  {
   "cell_type": "markdown",
   "id": "c024d030",
   "metadata": {},
   "source": [
    "### Preparation"
   ]
  },
  {
   "cell_type": "code",
   "execution_count": 1,
   "id": "06ef5c1e",
   "metadata": {},
   "outputs": [],
   "source": [
    "##packages\n",
    "\n",
    "import pandas as pd\n",
    "from statsmodels.tsa.stattools import adfuller\n",
    "from arch import arch_model"
   ]
  },
  {
   "cell_type": "code",
   "execution_count": null,
   "id": "de048804",
   "metadata": {},
   "outputs": [],
   "source": [
    "这行代码从 statsmodels.tsa.stattools 模块中导入了 adfuller 函数。\n",
    "statsmodels 是一个 Python 模块，提供了用于估计许多不同统计模型的类和函数，\n",
    "以及用于进行统计测试和探索性数据分析的功能。\n",
    "在这里，adfuller 是一个用于执行增广迪基-富勒（Augmented Dickey-Fuller）检验的函数，\n",
    "该检验用于检验时间序列的平稳性。"
   ]
  },
  {
   "cell_type": "code",
   "execution_count": null,
   "id": "8a74d686",
   "metadata": {},
   "outputs": [],
   "source": [
    "这行代码从 arch 模块中导入了 arch_model 函数。\n",
    "arch 库用于建模金融时间序列的波动性。\n",
    "它提供了使用各种计量经济模型（包括 ARCH 和 GARCH 模型）来估计和预测波动性的功能。\n",
    "综上所述，你的代码导入了一些必要的库和函数，用于数据处理、时间序列分析（特别是用增广迪基-富勒检验测试平稳性）\n",
    "以及使用 ARCH 模型对金融时间序列进行波动性建模。"
   ]
  },
  {
   "cell_type": "code",
   "execution_count": 3,
   "id": "d4c9f41f",
   "metadata": {},
   "outputs": [],
   "source": [
    "## reading stock price file\n",
    "\n",
    "XOM = pd.read_csv(\"XOM.csv\")"
   ]
  },
  {
   "cell_type": "markdown",
   "id": "c2981889",
   "metadata": {},
   "source": [
    "## Test for stationarity"
   ]
  },
  {
   "cell_type": "code",
   "execution_count": 4,
   "id": "323c25a1",
   "metadata": {},
   "outputs": [
    {
     "data": {
      "text/html": [
       "<div>\n",
       "<style scoped>\n",
       "    .dataframe tbody tr th:only-of-type {\n",
       "        vertical-align: middle;\n",
       "    }\n",
       "\n",
       "    .dataframe tbody tr th {\n",
       "        vertical-align: top;\n",
       "    }\n",
       "\n",
       "    .dataframe thead th {\n",
       "        text-align: right;\n",
       "    }\n",
       "</style>\n",
       "<table border=\"1\" class=\"dataframe\">\n",
       "  <thead>\n",
       "    <tr style=\"text-align: right;\">\n",
       "      <th></th>\n",
       "      <th>Date</th>\n",
       "      <th>Open</th>\n",
       "      <th>High</th>\n",
       "      <th>Low</th>\n",
       "      <th>Close</th>\n",
       "      <th>Adj Close</th>\n",
       "      <th>Volume</th>\n",
       "    </tr>\n",
       "  </thead>\n",
       "  <tbody>\n",
       "    <tr>\n",
       "      <th>0</th>\n",
       "      <td>1962-01-02</td>\n",
       "      <td>0.0</td>\n",
       "      <td>1.589844</td>\n",
       "      <td>1.578125</td>\n",
       "      <td>1.578125</td>\n",
       "      <td>0.095784</td>\n",
       "      <td>902400</td>\n",
       "    </tr>\n",
       "    <tr>\n",
       "      <th>1</th>\n",
       "      <td>1962-01-03</td>\n",
       "      <td>0.0</td>\n",
       "      <td>1.601563</td>\n",
       "      <td>1.578125</td>\n",
       "      <td>1.601563</td>\n",
       "      <td>0.097206</td>\n",
       "      <td>1200000</td>\n",
       "    </tr>\n",
       "    <tr>\n",
       "      <th>2</th>\n",
       "      <td>1962-01-04</td>\n",
       "      <td>0.0</td>\n",
       "      <td>1.613281</td>\n",
       "      <td>1.597656</td>\n",
       "      <td>1.605469</td>\n",
       "      <td>0.097444</td>\n",
       "      <td>1088000</td>\n",
       "    </tr>\n",
       "    <tr>\n",
       "      <th>3</th>\n",
       "      <td>1962-01-05</td>\n",
       "      <td>0.0</td>\n",
       "      <td>1.613281</td>\n",
       "      <td>1.566406</td>\n",
       "      <td>1.570313</td>\n",
       "      <td>0.095310</td>\n",
       "      <td>1222400</td>\n",
       "    </tr>\n",
       "    <tr>\n",
       "      <th>4</th>\n",
       "      <td>1962-01-08</td>\n",
       "      <td>0.0</td>\n",
       "      <td>1.582031</td>\n",
       "      <td>1.546875</td>\n",
       "      <td>1.566406</td>\n",
       "      <td>0.095073</td>\n",
       "      <td>1388800</td>\n",
       "    </tr>\n",
       "  </tbody>\n",
       "</table>\n",
       "</div>"
      ],
      "text/plain": [
       "         Date  Open      High       Low     Close  Adj Close   Volume\n",
       "0  1962-01-02   0.0  1.589844  1.578125  1.578125   0.095784   902400\n",
       "1  1962-01-03   0.0  1.601563  1.578125  1.601563   0.097206  1200000\n",
       "2  1962-01-04   0.0  1.613281  1.597656  1.605469   0.097444  1088000\n",
       "3  1962-01-05   0.0  1.613281  1.566406  1.570313   0.095310  1222400\n",
       "4  1962-01-08   0.0  1.582031  1.546875  1.566406   0.095073  1388800"
      ]
     },
     "execution_count": 4,
     "metadata": {},
     "output_type": "execute_result"
    }
   ],
   "source": [
    "### head\n",
    "\n",
    "XOM.head()"
   ]
  },
  {
   "cell_type": "code",
   "execution_count": 7,
   "id": "a12b8c32",
   "metadata": {},
   "outputs": [],
   "source": [
    "### Reading again and speicfy first column as index\n",
    "\n",
    "XOM = pd.read_csv(\"XOM.csv\",index_col = 0)"
   ]
  },
  {
   "cell_type": "code",
   "execution_count": 8,
   "id": "5275852f",
   "metadata": {},
   "outputs": [
    {
     "data": {
      "text/html": [
       "<div>\n",
       "<style scoped>\n",
       "    .dataframe tbody tr th:only-of-type {\n",
       "        vertical-align: middle;\n",
       "    }\n",
       "\n",
       "    .dataframe tbody tr th {\n",
       "        vertical-align: top;\n",
       "    }\n",
       "\n",
       "    .dataframe thead th {\n",
       "        text-align: right;\n",
       "    }\n",
       "</style>\n",
       "<table border=\"1\" class=\"dataframe\">\n",
       "  <thead>\n",
       "    <tr style=\"text-align: right;\">\n",
       "      <th></th>\n",
       "      <th>Open</th>\n",
       "      <th>High</th>\n",
       "      <th>Low</th>\n",
       "      <th>Close</th>\n",
       "      <th>Adj Close</th>\n",
       "      <th>Volume</th>\n",
       "    </tr>\n",
       "    <tr>\n",
       "      <th>Date</th>\n",
       "      <th></th>\n",
       "      <th></th>\n",
       "      <th></th>\n",
       "      <th></th>\n",
       "      <th></th>\n",
       "      <th></th>\n",
       "    </tr>\n",
       "  </thead>\n",
       "  <tbody>\n",
       "    <tr>\n",
       "      <th>1962-01-02</th>\n",
       "      <td>0.0</td>\n",
       "      <td>1.589844</td>\n",
       "      <td>1.578125</td>\n",
       "      <td>1.578125</td>\n",
       "      <td>0.095784</td>\n",
       "      <td>902400</td>\n",
       "    </tr>\n",
       "    <tr>\n",
       "      <th>1962-01-03</th>\n",
       "      <td>0.0</td>\n",
       "      <td>1.601563</td>\n",
       "      <td>1.578125</td>\n",
       "      <td>1.601563</td>\n",
       "      <td>0.097206</td>\n",
       "      <td>1200000</td>\n",
       "    </tr>\n",
       "    <tr>\n",
       "      <th>1962-01-04</th>\n",
       "      <td>0.0</td>\n",
       "      <td>1.613281</td>\n",
       "      <td>1.597656</td>\n",
       "      <td>1.605469</td>\n",
       "      <td>0.097444</td>\n",
       "      <td>1088000</td>\n",
       "    </tr>\n",
       "    <tr>\n",
       "      <th>1962-01-05</th>\n",
       "      <td>0.0</td>\n",
       "      <td>1.613281</td>\n",
       "      <td>1.566406</td>\n",
       "      <td>1.570313</td>\n",
       "      <td>0.095310</td>\n",
       "      <td>1222400</td>\n",
       "    </tr>\n",
       "    <tr>\n",
       "      <th>1962-01-08</th>\n",
       "      <td>0.0</td>\n",
       "      <td>1.582031</td>\n",
       "      <td>1.546875</td>\n",
       "      <td>1.566406</td>\n",
       "      <td>0.095073</td>\n",
       "      <td>1388800</td>\n",
       "    </tr>\n",
       "  </tbody>\n",
       "</table>\n",
       "</div>"
      ],
      "text/plain": [
       "            Open      High       Low     Close  Adj Close   Volume\n",
       "Date                                                              \n",
       "1962-01-02   0.0  1.589844  1.578125  1.578125   0.095784   902400\n",
       "1962-01-03   0.0  1.601563  1.578125  1.601563   0.097206  1200000\n",
       "1962-01-04   0.0  1.613281  1.597656  1.605469   0.097444  1088000\n",
       "1962-01-05   0.0  1.613281  1.566406  1.570313   0.095310  1222400\n",
       "1962-01-08   0.0  1.582031  1.546875  1.566406   0.095073  1388800"
      ]
     },
     "execution_count": 8,
     "metadata": {},
     "output_type": "execute_result"
    }
   ],
   "source": [
    "### head\n",
    "\n",
    "XOM.head()"
   ]
  },
  {
   "cell_type": "markdown",
   "id": "4aefa808",
   "metadata": {},
   "source": [
    "## Detrending and test again"
   ]
  },
  {
   "cell_type": "code",
   "execution_count": 5,
   "id": "a225a1cf",
   "metadata": {},
   "outputs": [
    {
     "name": "stdout",
     "output_type": "stream",
     "text": [
      "(1.4135831998503248, 0.997174982990766, 36, 15598, {'1%': -3.430769308660732, '5%': -2.861725316810465, '10%': -2.5668686395747655}, 23792.874696335144)\n"
     ]
    }
   ],
   "source": [
    "#### AD fuller Test\n",
    "print(adfuller(XOM[\"Adj Close\"]))"
   ]
  },
  {
   "cell_type": "code",
   "execution_count": null,
   "id": "8beaa8d7",
   "metadata": {},
   "outputs": [],
   "source": [
    "p=0.997174982990766 >0.5 : it is not sattionary 只需要关心P- value"
   ]
  },
  {
   "cell_type": "code",
   "execution_count": 9,
   "id": "af2019e5",
   "metadata": {},
   "outputs": [
    {
     "name": "stdout",
     "output_type": "stream",
     "text": [
      "p-value:0.997175\n"
     ]
    }
   ],
   "source": [
    "#### P- value\n",
    "print('p-value:%f'%adfuller(XOM[\"Adj Close\"])[1])"
   ]
  },
  {
   "cell_type": "code",
   "execution_count": null,
   "id": "ecacde34",
   "metadata": {},
   "outputs": [],
   "source": [
    "percentage change "
   ]
  },
  {
   "cell_type": "code",
   "execution_count": 10,
   "id": "c75a5245",
   "metadata": {},
   "outputs": [],
   "source": [
    "returns = 100* XOM[\"Adj Close\"].pct_change().dropna()"
   ]
  },
  {
   "cell_type": "code",
   "execution_count": 11,
   "id": "be2779e1",
   "metadata": {},
   "outputs": [
    {
     "data": {
      "text/plain": [
       "Date\n",
       "1962-01-03    1.484590\n",
       "1962-01-04    0.244841\n",
       "1962-01-05   -2.189976\n",
       "1962-01-08   -0.248662\n",
       "1962-01-09   -0.249282\n",
       "Name: Adj Close, dtype: float64"
      ]
     },
     "execution_count": 11,
     "metadata": {},
     "output_type": "execute_result"
    }
   ],
   "source": [
    "returns.head()"
   ]
  },
  {
   "cell_type": "code",
   "execution_count": 21,
   "id": "76164f24",
   "metadata": {},
   "outputs": [
    {
     "name": "stdout",
     "output_type": "stream",
     "text": [
      "p-value:0.000000\n"
     ]
    }
   ],
   "source": [
    "### test for stationary again\n",
    "print('p-value:%f'% adfuller(returns)[1])"
   ]
  },
  {
   "cell_type": "code",
   "execution_count": null,
   "id": "28d8aa17",
   "metadata": {},
   "outputs": [],
   "source": [
    "means stationary"
   ]
  },
  {
   "cell_type": "markdown",
   "id": "b9e90146",
   "metadata": {},
   "source": [
    "## Arch Model"
   ]
  },
  {
   "cell_type": "code",
   "execution_count": 22,
   "id": "69079513",
   "metadata": {},
   "outputs": [
    {
     "name": "stdout",
     "output_type": "stream",
     "text": [
      "Iteration:      1,   Func. Count:      5,   Neg. LLF: 52659154217657.2\n",
      "Iteration:      2,   Func. Count:     13,   Neg. LLF: 8600330772.176231\n",
      "Iteration:      3,   Func. Count:     19,   Neg. LLF: 28241.225530705517\n",
      "Iteration:      4,   Func. Count:     25,   Neg. LLF: 26990.236482429256\n",
      "Iteration:      5,   Func. Count:     29,   Neg. LLF: 26990.23620591836\n",
      "Iteration:      6,   Func. Count:     32,   Neg. LLF: 26990.23620591841\n",
      "Optimization terminated successfully    (Exit mode 0)\n",
      "            Current function value: 26990.23620591836\n",
      "            Iterations: 6\n",
      "            Function evaluations: 32\n",
      "            Gradient evaluations: 6\n",
      "                      Constant Mean - ARCH Model Results                      \n",
      "==============================================================================\n",
      "Dep. Variable:              Adj Close   R-squared:                       0.000\n",
      "Mean Model:             Constant Mean   Adj. R-squared:                  0.000\n",
      "Vol Model:                       ARCH   Log-Likelihood:               -26990.2\n",
      "Distribution:                  Normal   AIC:                           53986.5\n",
      "Method:            Maximum Likelihood   BIC:                           54009.4\n",
      "                                        No. Observations:                15634\n",
      "Date:                Mon, Mar 04 2024   Df Residuals:                    15633\n",
      "Time:                        10:50:47   Df Model:                            1\n",
      "                                 Mean Model                                 \n",
      "============================================================================\n",
      "                 coef    std err          t      P>|t|      95.0% Conf. Int.\n",
      "----------------------------------------------------------------------------\n",
      "mu             0.0649  1.123e-02      5.780  7.475e-09 [4.292e-02,8.696e-02]\n",
      "                            Volatility Model                            \n",
      "========================================================================\n",
      "                 coef    std err          t      P>|t|  95.0% Conf. Int.\n",
      "------------------------------------------------------------------------\n",
      "omega          1.4343  3.668e-02     39.103      0.000 [  1.362,  1.506]\n",
      "alpha[1]       0.3025  2.550e-02     11.860  1.909e-32 [  0.252,  0.352]\n",
      "========================================================================\n",
      "\n",
      "Covariance estimator: robust\n"
     ]
    }
   ],
   "source": [
    "am = arch_model(returns,vol=\"ARCH\")#必须要写vol=\"ARCH\"，否则变成GRACH\n",
    "res = am.fit()#res 是fit model的名字\n",
    "print(res.summary())\n",
    "#default p =1"
   ]
  },
  {
   "cell_type": "code",
   "execution_count": null,
   "id": "3b1308df",
   "metadata": {},
   "outputs": [],
   "source": [
    " AIC:                           53986.5\n",
    " BIC:                           54009.4\n",
    "    越小越好"
   ]
  },
  {
   "cell_type": "code",
   "execution_count": null,
   "id": "d180d0c8",
   "metadata": {},
   "outputs": [],
   "source": []
  },
  {
   "cell_type": "markdown",
   "id": "5787fbce",
   "metadata": {},
   "source": [
    "## GARCH Model"
   ]
  },
  {
   "cell_type": "code",
   "execution_count": 23,
   "id": "82618039",
   "metadata": {},
   "outputs": [
    {
     "name": "stdout",
     "output_type": "stream",
     "text": [
      "Iteration:      1,   Func. Count:      6,   Neg. LLF: 106765.97296348024\n",
      "Iteration:      2,   Func. Count:     15,   Neg. LLF: 113035.03907992158\n",
      "Iteration:      3,   Func. Count:     25,   Neg. LLF: 1639953133.5120692\n",
      "Iteration:      4,   Func. Count:     31,   Neg. LLF: 25864.688491152803\n",
      "Iteration:      5,   Func. Count:     37,   Neg. LLF: 44568.51611593839\n",
      "Iteration:      6,   Func. Count:     43,   Neg. LLF: 25935.64289763202\n",
      "Iteration:      7,   Func. Count:     50,   Neg. LLF: 25832.299455999266\n",
      "Iteration:      8,   Func. Count:     55,   Neg. LLF: 25832.265061842394\n",
      "Iteration:      9,   Func. Count:     60,   Neg. LLF: 25832.264754968568\n",
      "Iteration:     10,   Func. Count:     65,   Neg. LLF: 25832.26472866698\n",
      "Iteration:     11,   Func. Count:     69,   Neg. LLF: 25832.264728662638\n",
      "Optimization terminated successfully    (Exit mode 0)\n",
      "            Current function value: 25832.26472866698\n",
      "            Iterations: 11\n",
      "            Function evaluations: 69\n",
      "            Gradient evaluations: 11\n",
      "                     Constant Mean - GARCH Model Results                      \n",
      "==============================================================================\n",
      "Dep. Variable:              Adj Close   R-squared:                       0.000\n",
      "Mean Model:             Constant Mean   Adj. R-squared:                  0.000\n",
      "Vol Model:                      GARCH   Log-Likelihood:               -25832.3\n",
      "Distribution:                  Normal   AIC:                           51672.5\n",
      "Method:            Maximum Likelihood   BIC:                           51703.2\n",
      "                                        No. Observations:                15634\n",
      "Date:                Mon, Mar 04 2024   Df Residuals:                    15633\n",
      "Time:                        10:54:56   Df Model:                            1\n",
      "                                 Mean Model                                 \n",
      "============================================================================\n",
      "                 coef    std err          t      P>|t|      95.0% Conf. Int.\n",
      "----------------------------------------------------------------------------\n",
      "mu             0.0603  9.269e-03      6.502  7.910e-11 [4.210e-02,7.843e-02]\n",
      "                              Volatility Model                              \n",
      "============================================================================\n",
      "                 coef    std err          t      P>|t|      95.0% Conf. Int.\n",
      "----------------------------------------------------------------------------\n",
      "omega          0.0343  6.515e-03      5.257  1.465e-07 [2.148e-02,4.702e-02]\n",
      "alpha[1]       0.0813  1.033e-02      7.874  3.448e-15   [6.107e-02,  0.102]\n",
      "beta[1]        0.9020  1.190e-02     75.767      0.000     [  0.879,  0.925]\n",
      "============================================================================\n",
      "\n",
      "Covariance estimator: robust\n"
     ]
    }
   ],
   "source": [
    "am = arch_model(returns,vol=\"GARCH\")#必须要写vol=\"ARCH\"，否则变成GRACH\n",
    "res = am.fit()#res 是fit model的名字\n",
    "print(res.summary())\n",
    "#default p =1"
   ]
  }
 ],
 "metadata": {
  "kernelspec": {
   "display_name": "Python 3 (ipykernel)",
   "language": "python",
   "name": "python3"
  },
  "language_info": {
   "codemirror_mode": {
    "name": "ipython",
    "version": 3
   },
   "file_extension": ".py",
   "mimetype": "text/x-python",
   "name": "python",
   "nbconvert_exporter": "python",
   "pygments_lexer": "ipython3",
   "version": "3.9.13"
  }
 },
 "nbformat": 4,
 "nbformat_minor": 5
}
